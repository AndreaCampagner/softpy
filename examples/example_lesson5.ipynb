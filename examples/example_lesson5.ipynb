{
 "cells": [
  {
   "cell_type": "markdown",
   "id": "fab2751d",
   "metadata": {},
   "source": [
    "# Exercise 1\n",
    "\n",
    "- Implement the Griewank benchmark function\n",
    "\n",
    "$$f(x) = 1 + \\frac{1}{4000}*(\\sum_{i=1}^n x_i^2) - \\Pi_{i=1}^n\\cos (\\frac{x_i}{\\sqrt{i}})$$\n",
    "\n",
    "- Implement a genetic algorithm to solve the problem\n",
    "$$\\arg\\min_{x \\in [-600,600]^n} f(x)$$"
   ]
  },
  {
   "cell_type": "markdown",
   "id": "79c1a60c",
   "metadata": {},
   "source": [
    "# Exercise 2\n",
    "\n",
    "Revisit Exercise 1 by:\n",
    "\n",
    "- Check how the solution varies when changing elements that influence the exploration-exploitation trade-off (elitism, steady-state vs generational, population size, mutation rate, etc.)\n",
    "\n",
    "- Implement a maximally exploitative version of Genetic Algorithm (Hint: Hill Climbing)\n",
    "\n",
    "- Implement a maximally explorative version of Genetic Algorithm (Hint: Randomized Search)"
   ]
  },
  {
   "cell_type": "code",
   "execution_count": 2,
   "id": "4ccff9fd",
   "metadata": {},
   "outputs": [],
   "source": [
    "import sys\n",
    "import numpy as np\n",
    "import matplotlib.pyplot as plt\n",
    "sys.path.append(\"../source/\")\n",
    "from evolutionary import *\n",
    "from functools import partial\n",
    "import scipy"
   ]
  },
  {
   "cell_type": "code",
   "execution_count": 8,
   "id": "9232bdbf",
   "metadata": {},
   "outputs": [],
   "source": [
    "def griewank(x: FloatVectorCandidate):\n",
    "    return - (1 + 1/4000*np.sum(x.candidate**2) - np.product(np.cos(x.candidate/np.sqrt(np.array(range(len(x.candidate)))+1))))"
   ]
  },
  {
   "cell_type": "code",
   "execution_count": 9,
   "id": "0ddd4600",
   "metadata": {},
   "outputs": [],
   "source": [
    "max_value = 10\n",
    "\n",
    "genalgo_griewank = GeneticAlgorithm(100,\n",
    "                                  FloatVectorCandidate,\n",
    "                                  partial(tournament_selection, tournament_size=5),\n",
    "                                  griewank,\n",
    "                                  elitism=True,\n",
    "                                  **{\"distribution\": scipy.stats.uniform(loc=-600, scale=1200),\n",
    "                                     \"size\": max_value,\n",
    "                                     \"lower\": -600,\n",
    "                                     \"upper\": 600})"
   ]
  },
  {
   "cell_type": "code",
   "execution_count": 12,
   "id": "d8413d17",
   "metadata": {},
   "outputs": [
    {
     "data": {
      "text/plain": [
       "(0.0, 5.066895022638514)"
      ]
     },
     "execution_count": 12,
     "metadata": {},
     "output_type": "execute_result"
    },
    {
     "data": {
      "image/png": "[encoded data removed]",
      "text/plain": [
       "<Figure size 640x480 with 1 Axes>"
      ]
     },
     "metadata": {},
     "output_type": "display_data"
    }
   ],
   "source": [
    "iters = 100\n",
    "\n",
    "genalgo_griewank.fit(iters, keep_history=True)\n",
    "history = genalgo_griewank.fitness_h\n",
    "plt.plot(-history)\n",
    "plt.xlim(0,iters)\n",
    "plt.ylim(0,np.sum(a))"
   ]
  },
  {
   "cell_type": "code",
   "execution_count": 11,
   "id": "d4f25ccc",
   "metadata": {},
   "outputs": [
    {
     "data": {
      "text/plain": [
       "array([-120.74475004,  -29.31757462,  -19.75279651,  -13.02472785,\n",
       "         -8.53922139,   -8.53922139,   -3.64674417,   -3.64674417,\n",
       "         -3.64674417,   -3.64674417,   -3.64674417,   -3.64674417,\n",
       "         -3.64674417,   -3.64674417,   -3.64674417,   -3.64674417,\n",
       "         -3.64674417,   -3.64674417,   -3.64674417,   -3.64674417,\n",
       "         -3.64674417,   -3.64674417,   -3.64674417,   -3.64674417,\n",
       "         -3.64674417,   -3.64674417,   -3.64674417,   -3.64674417,\n",
       "         -3.64674417,   -3.64674417,   -3.64674417,   -3.64674417,\n",
       "         -3.64674417,   -3.64674417,   -3.64674417,   -3.64674417,\n",
       "         -3.64674417,   -3.64674417,   -3.64674417,   -3.64674417,\n",
       "         -3.64674417,   -3.64674417,   -3.64674417,   -3.64674417,\n",
       "         -3.64674417,   -3.64674417,   -3.64674417,   -3.64674417,\n",
       "         -3.64674417,   -3.64674417,   -3.64674417,   -3.64674417,\n",
       "         -3.64674417,   -3.64674417,   -3.64674417,   -3.64674417,\n",
       "         -3.2342187 ,   -3.2342187 ,   -3.2342187 ,   -3.2342187 ,\n",
       "         -3.2342187 ,   -3.2342187 ,   -3.2342187 ,   -3.2342187 ,\n",
       "         -3.2342187 ,   -3.2342187 ,   -3.2342187 ,   -3.2342187 ,\n",
       "         -3.2342187 ,   -3.2342187 ,   -3.2342187 ,   -3.2342187 ,\n",
       "         -3.2342187 ,   -3.2342187 ,   -3.2342187 ,   -3.2342187 ,\n",
       "         -3.2342187 ,   -3.2342187 ,   -3.2342187 ,   -3.2342187 ,\n",
       "         -3.2342187 ,   -3.2342187 ,   -3.2342187 ,   -3.2342187 ,\n",
       "         -3.2342187 ,   -3.2342187 ,   -3.2342187 ,   -3.2342187 ,\n",
       "         -3.2342187 ,   -3.2342187 ,   -3.2342187 ,   -2.72951811,\n",
       "         -2.72951811,   -2.72951811,   -2.72951811,   -2.72951811,\n",
       "         -2.72951811,   -2.72951811,   -2.72951811,   -2.72951811,\n",
       "         -2.72951811])"
      ]
     },
     "execution_count": 11,
     "metadata": {},
     "output_type": "execute_result"
    }
   ],
   "source": [
    "history"
   ]
  },
  {
   "cell_type": "code",
   "execution_count": null,
   "id": "3996d0f2",
   "metadata": {},
   "outputs": [],
   "source": []
  }
 ],
 "metadata": {
  "kernelspec": {
   "display_name": "Python 3 (ipykernel)",
   "language": "python",
   "name": "python3"
  },
  "language_info": {
   "codemirror_mode": {
    "name": "ipython",
    "version": 3
   },
   "file_extension": ".py",
   "mimetype": "text/x-python",
   "name": "python",
   "nbconvert_exporter": "python",
   "pygments_lexer": "ipython3",
   "version": "3.10.9"
  }
 },
 "nbformat": 4,
 "nbformat_minor": 5
}
