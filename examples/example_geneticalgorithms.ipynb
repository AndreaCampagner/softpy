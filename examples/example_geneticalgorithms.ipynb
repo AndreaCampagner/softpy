{
 "cells": [
  {
   "cell_type": "code",
   "execution_count": 1,
   "id": "facac2aa",
   "metadata": {},
   "outputs": [],
   "source": [
    "import sys\n",
    "import numpy as np\n",
    "import matplotlib.pyplot as plt\n",
    "sys.path.append(\"../\")\n",
    "from softpy.evolutionary import *\n",
    "from functools import partial\n",
    "import scipy"
   ]
  },
  {
   "cell_type": "markdown",
   "id": "2c89b1e7",
   "metadata": {},
   "source": [
    "# One-Max Function\n",
    "\n",
    "It's a very simple (toy) example of an optimization problem for binary vector: the value to optimize is the number of 1s in the vector\n",
    "\n",
    "$fitness(x) = \\sum_{i=1}^n x_i$"
   ]
  },
  {
   "cell_type": "code",
   "execution_count": 2,
   "id": "b26d5469",
   "metadata": {},
   "outputs": [],
   "source": [
    "def one_max(b: BitVectorCandidate):\n",
    "    return np.sum(b.candidate)"
   ]
  },
  {
   "cell_type": "code",
   "execution_count": 3,
   "id": "f7e78451",
   "metadata": {},
   "outputs": [],
   "source": [
    "max_value = 100\n",
    "\n",
    "genalgo_one_max = GeneticAlgorithm(pop_size=100,\n",
    "                                   candidate_type=BitVectorCandidate,\n",
    "                                   selection_func=partial(tournament_selection, tournament_size=5),\n",
    "                                   fitness_func=one_max,\n",
    "                                   elitism=True,\n",
    "                                   **{\"p\": 0.05, \"size\": max_value})"
   ]
  },
  {
   "cell_type": "code",
   "execution_count": 4,
   "id": "2bb49a20",
   "metadata": {},
   "outputs": [
    {
     "data": {
      "text/plain": [
       "(0.0, 100.0)"
      ]
     },
     "execution_count": 4,
     "metadata": {},
     "output_type": "execute_result"
    },
    {
     "data": {
      "image/png": "[encoded data removed]",
      "text/plain": [
       "<Figure size 640x480 with 1 Axes>"
      ]
     },
     "metadata": {},
     "output_type": "display_data"
    }
   ],
   "source": [
    "iters = 1000\n",
    "\n",
    "genalgo_one_max.fit(iters, keep_history=True, n_jobs=2)\n",
    "history = genalgo_one_max.fitness_h\n",
    "\n",
    "plt.plot(history)\n",
    "plt.xlim(0,iters)\n",
    "plt.ylim(0,max_value)\n"
   ]
  },
  {
   "cell_type": "markdown",
   "id": "2da705c3",
   "metadata": {},
   "source": [
    "# Trap\n",
    "\n",
    "It is a tricky optimization problem: the value is the number of 1s -> unless you have the all 0s or the all 1s vectors:\n",
    "\n",
    "        If all 0s -> the fitness value is n (maximum)\n",
    "        \n",
    "        If all 1s -> the fitness value is 0 (minimum)\n",
    "        \n",
    "$fitness(x) = \\begin{cases}\n",
    "1 & \\forall i, x_i = 0\\\\\n",
    "0 & \\forall i, x_i = 1\\\\\n",
    "\\sum_i x_i & otherwise\n",
    "\\end{cases}$"
   ]
  },
  {
   "cell_type": "code",
   "execution_count": 5,
   "id": "1eb0dfe7",
   "metadata": {},
   "outputs": [],
   "source": [
    "def trap(b: BitVectorCandidate):\n",
    "    v = np.sum(b.candidate)\n",
    "    if v == 0:\n",
    "        return b.size\n",
    "    elif v == b.size:\n",
    "        return 0\n",
    "    else:\n",
    "        return v"
   ]
  },
  {
   "cell_type": "code",
   "execution_count": 6,
   "id": "87accb9e",
   "metadata": {},
   "outputs": [],
   "source": [
    "max_value = 100\n",
    "\n",
    "genalgo_trap = GeneticAlgorithm(pop_size=100,\n",
    "                                candidate_type=BitVectorCandidate,\n",
    "                                selection_func=partial(tournament_selection, tournament_size=5),\n",
    "                                fitness_func=trap,\n",
    "                                elitism=True,\n",
    "                                **{\"p\": 0.05, \"size\": max_value})"
   ]
  },
  {
   "cell_type": "code",
   "execution_count": 7,
   "id": "339d63c0",
   "metadata": {},
   "outputs": [
    {
     "data": {
      "text/plain": [
       "(0.0, 100.0)"
      ]
     },
     "execution_count": 7,
     "metadata": {},
     "output_type": "execute_result"
    },
    {
     "data": {
      "image/png": "[encoded data removed]",
      "text/plain": [
       "<Figure size 640x480 with 1 Axes>"
      ]
     },
     "metadata": {},
     "output_type": "display_data"
    }
   ],
   "source": [
    "iters = 1000\n",
    "\n",
    "genalgo_trap.fit(iters, keep_history=True)\n",
    "history = genalgo_trap.fitness_h\n",
    "\n",
    "plt.plot(history)\n",
    "plt.xlim(0,iters)\n",
    "plt.ylim(0,max_value)\n"
   ]
  },
  {
   "cell_type": "markdown",
   "id": "1b8e572e",
   "metadata": {},
   "source": [
    "# Linear\n",
    "\n",
    "It is the real-valued version of one-max: the function to optimize is to maximize a linear function,\n",
    "specified by a given vector\n",
    "\n",
    "$f_a(x) = \\sum_i a_i x_i$"
   ]
  },
  {
   "cell_type": "code",
   "execution_count": 8,
   "id": "6888efbb",
   "metadata": {},
   "outputs": [],
   "source": [
    "def linear(v: FloatVectorCandidate, a: np.ndarray):\n",
    "    return np.sum(v.candidate * a)"
   ]
  },
  {
   "cell_type": "code",
   "execution_count": 9,
   "id": "6bbbe46a",
   "metadata": {},
   "outputs": [
    {
     "name": "stdout",
     "output_type": "stream",
     "text": [
      "5.78221949293385\n"
     ]
    }
   ],
   "source": [
    "max_value = 10\n",
    "\n",
    "a = np.random.rand(max_value)\n",
    "print(np.sum(a))\n",
    "genalgo_linear = GeneticAlgorithm(pop_size=100,\n",
    "                                  candidate_type=FloatVectorCandidate,\n",
    "                                  selection_func=partial(tournament_selection, tournament_size=5),\n",
    "                                  fitness_func=partial(linear, a=a),\n",
    "                                  elitism=True,\n",
    "                                  **{\"distribution\": scipy.stats.uniform(loc=-0.05, scale=0.1),\n",
    "                                     \"size\": max_value,\n",
    "                                     \"lower\": 0,\n",
    "                                     \"upper\": 1})"
   ]
  },
  {
   "cell_type": "code",
   "execution_count": 10,
   "id": "2bc75aff",
   "metadata": {},
   "outputs": [
    {
     "data": {
      "text/plain": [
       "(0.0, 5.78221949293385)"
      ]
     },
     "execution_count": 10,
     "metadata": {},
     "output_type": "execute_result"
    },
    {
     "data": {
      "image/png": "[encoded data removed]",
      "text/plain": [
       "<Figure size 640x480 with 1 Axes>"
      ]
     },
     "metadata": {},
     "output_type": "display_data"
    }
   ],
   "source": [
    "iters = 100\n",
    "\n",
    "genalgo_linear.fit(iters, keep_history=True)\n",
    "history = genalgo_linear.fitness_h\n",
    "plt.plot(history)\n",
    "plt.xlim(0,iters)\n",
    "plt.ylim(0,np.sum(a))"
   ]
  },
  {
   "cell_type": "markdown",
   "id": "97f2bd21",
   "metadata": {},
   "source": [
    "# Rastrigin\n",
    "\n",
    "It's a benchmark optimization problem: it is very difficult because it has a huge number of local optima"
   ]
  },
  {
   "cell_type": "code",
   "execution_count": 11,
   "id": "aa83ecdc",
   "metadata": {},
   "outputs": [],
   "source": [
    "def rastrigin(v: FloatVectorCandidate):\n",
    "    return -(10*v.size + np.sum(v.candidate*v.candidate - 10*np.cos(2*np.pi*v.candidate)))"
   ]
  },
  {
   "cell_type": "code",
   "execution_count": 12,
   "id": "3bdbcab0",
   "metadata": {},
   "outputs": [],
   "source": [
    "max_value = 10\n",
    "\n",
    "genalgo_rastrigin = GeneticAlgorithm(pop_size=100,\n",
    "                                  candidate_type=FloatVectorCandidate,\n",
    "                                  selection_func=partial(tournament_selection, tournament_size=5),\n",
    "                                  fitness_func=rastrigin,\n",
    "                                  elitism=True,\n",
    "                                  **{\"distribution\": scipy.stats.uniform(loc=-0.05, scale=0.1),\n",
    "                                     \"size\": max_value,\n",
    "                                     \"lower\": -5.12,\n",
    "                                     \"upper\": 5.12})"
   ]
  },
  {
   "cell_type": "code",
   "execution_count": 13,
   "id": "40eecaa7",
   "metadata": {},
   "outputs": [
    {
     "data": {
      "text/plain": [
       "(0.0, 100.0)"
      ]
     },
     "execution_count": 13,
     "metadata": {},
     "output_type": "execute_result"
    },
    {
     "data": {
      "image/png": "[encoded data removed]",
      "text/plain": [
       "<Figure size 640x480 with 1 Axes>"
      ]
     },
     "metadata": {},
     "output_type": "display_data"
    }
   ],
   "source": [
    "iters = 100\n",
    "\n",
    "genalgo_rastrigin.fit(iters, keep_history=True)\n",
    "history = genalgo_rastrigin.fitness_h\n",
    "plt.plot(history*-1)\n",
    "plt.xlim(0,iters)\n",
    "#plt.ylim(0,np.sum(a))"
   ]
  },
  {
   "cell_type": "markdown",
   "id": "082190a4",
   "metadata": {},
   "source": [
    "# Least-Squares Linear Regression\n",
    "\n",
    "The objective is, given a matrix of data $X$ and observations $y$ generated by $X \\cdot w + \\epsilon=y$ (with $w$ unknown and $\\epsilon \\sim N(0,1)$ being random noise), to retrieve\n",
    "the unknown vector $w$. We encode this by defining a loss function by which we measure the fitness of a candidate $a$:\n",
    "    \n",
    "$ fitness(a) = -\\sum_i (y - X[i,:] \\cdot a)^2 $"
   ]
  },
  {
   "cell_type": "code",
   "execution_count": 14,
   "id": "9eaad9c5",
   "metadata": {},
   "outputs": [],
   "source": [
    "def linear_regression(v: FloatVectorCandidate, X, y):\n",
    "    return -np.sum((y - X.dot(v.candidate))*(y - X.dot(v.candidate)))"
   ]
  },
  {
   "cell_type": "code",
   "execution_count": 15,
   "id": "30fb9937",
   "metadata": {},
   "outputs": [
    {
     "data": {
      "text/plain": [
       "array([ 0.23505517,  0.61620624, -0.97613058, -0.11923487, -0.54392869])"
      ]
     },
     "execution_count": 15,
     "metadata": {},
     "output_type": "execute_result"
    }
   ],
   "source": [
    "features = 5\n",
    "instances = 30\n",
    "\n",
    "X = scipy.stats.norm.rvs(size=(instances, features), loc=0, scale=1)\n",
    "w = scipy.stats.uniform.rvs(size=features, loc=-1, scale=2)\n",
    "y = X.dot(w) + scipy.stats.norm.rvs(size=(instances), loc=0, scale=1)\n",
    "w"
   ]
  },
  {
   "cell_type": "code",
   "execution_count": 16,
   "id": "e38a27f0",
   "metadata": {},
   "outputs": [],
   "source": [
    "genalgo_lr = GeneticAlgorithm(pop_size=100,\n",
    "                                  candidate_type=FloatVectorCandidate,\n",
    "                                  selection_func=partial(tournament_selection, tournament_size=5),\n",
    "                                  fitness_func=partial(linear_regression, X=X, y=y),\n",
    "                                  elitism=True,\n",
    "                                  **{\"distribution\": scipy.stats.uniform(loc=-0.05, scale=0.1),\n",
    "                                     \"size\": features,\n",
    "                                     \"lower\": -1,\n",
    "                                     \"upper\": 1})"
   ]
  },
  {
   "cell_type": "code",
   "execution_count": 17,
   "id": "736fd1ad",
   "metadata": {},
   "outputs": [
    {
     "data": {
      "text/plain": [
       "(0.0, 1000.0)"
      ]
     },
     "execution_count": 17,
     "metadata": {},
     "output_type": "execute_result"
    },
    {
     "data": {
      "image/png": "[encoded data removed]",
      "text/plain": [
       "<Figure size 640x480 with 1 Axes>"
      ]
     },
     "metadata": {},
     "output_type": "display_data"
    }
   ],
   "source": [
    "iters = 1000\n",
    "\n",
    "genalgo_lr.fit(iters, keep_history=True)\n",
    "history = genalgo_lr.fitness_h\n",
    "plt.plot(history*-1)\n",
    "plt.xlim(0,iters)\n",
    "#plt.ylim(0,np.sum(a))"
   ]
  },
  {
   "cell_type": "code",
   "execution_count": 18,
   "id": "54447751",
   "metadata": {},
   "outputs": [
    {
     "name": "stdout",
     "output_type": "stream",
     "text": [
      "[ 0.23505517  0.61620624 -0.97613058 -0.11923487 -0.54392869]\n",
      "[-0.00843529 -0.01854245 -0.82588943 -0.2466354  -0.62097038]\n",
      "0.7119917343627663\n"
     ]
    }
   ],
   "source": [
    "print(w)\n",
    "print(genalgo_lr.best.candidate)\n",
    "print(np.linalg.norm(w - genalgo_lr.best.candidate))"
   ]
  },
  {
   "cell_type": "markdown",
   "id": "f68d9295",
   "metadata": {},
   "source": [
    "# Hamiltonian Path\n",
    "You are given a weighted directed graph $G = (V,E, w)$ represented in terms of an adjacency matrix $M_G$,\n",
    "where $M_G[i,j] > 0 \\text{ iff } (i,j) \\in E$. An hamiltonian path is a path that visits all the vertices of $G$\n",
    "and visits each vertex exactly one time.\n",
    "\n",
    "Goal: Find an hamiltonian path with minimum weight"
   ]
  },
  {
   "cell_type": "code",
   "execution_count": 19,
   "id": "74d51258",
   "metadata": {},
   "outputs": [
    {
     "data": {
      "text/plain": [
       "array([[0.        , 0.38949954, 0.12718756, 0.        , 0.        ,\n",
       "        0.89780608, 0.80676267, 0.        , 0.        , 0.        ],\n",
       "       [0.4328586 , 0.        , 0.        , 0.        , 0.        ,\n",
       "        0.        , 0.        , 0.78625923, 0.        , 0.        ],\n",
       "       [0.        , 0.        , 0.        , 0.        , 0.58937156,\n",
       "        0.23194567, 0.        , 0.        , 0.        , 0.1835881 ],\n",
       "       [0.        , 0.        , 0.        , 0.        , 0.        ,\n",
       "        0.        , 0.        , 0.45908935, 0.        , 0.        ],\n",
       "       [0.        , 0.        , 0.65400724, 0.        , 0.93371496,\n",
       "        0.        , 0.27181618, 0.        , 0.        , 0.        ],\n",
       "       [0.        , 0.98281134, 0.        , 0.40549358, 0.        ,\n",
       "        0.94169866, 0.        , 0.        , 0.        , 0.04739054],\n",
       "       [0.        , 0.44892516, 0.        , 0.        , 0.42521051,\n",
       "        0.72023513, 0.51130775, 0.        , 0.        , 0.        ],\n",
       "       [0.        , 0.        , 0.        , 0.        , 0.62704822,\n",
       "        0.        , 0.        , 0.07730331, 0.        , 0.        ],\n",
       "       [0.        , 0.        , 0.        , 0.34203555, 0.        ,\n",
       "        0.        , 0.        , 0.        , 0.        , 0.        ],\n",
       "       [0.        , 0.        , 0.        , 0.        , 0.        ,\n",
       "        0.        , 0.        , 0.        , 0.        , 0.        ]])"
      ]
     },
     "execution_count": 19,
     "metadata": {},
     "output_type": "execute_result"
    }
   ],
   "source": [
    "graph = np.random.choice([0,1], p=[0.75,0.25], size=(10,10))\n",
    "w = np.random.rand(10,10)\n",
    "graph = graph*w\n",
    "graph"
   ]
  },
  {
   "cell_type": "markdown",
   "id": "79ac816c",
   "metadata": {},
   "source": [
    "# Fitness Function\n",
    "The fitness penalizes paths that are longer or shorter than the number of vertices. It uses a linear penalty in which the \n",
    "difference in length (in absolute value) is weighted the maximum weight in the graph.\n",
    "Also, the fitness function penalizes a path if there are some nodes that are missing or some duplicate nodes\n",
    "(in this case, the path cannot be Hamiltonian), once again it uses a linear penality weighted\n",
    "the maximum weight in the graph"
   ]
  },
  {
   "cell_type": "code",
   "execution_count": 20,
   "id": "827e623b",
   "metadata": {},
   "outputs": [],
   "source": [
    "def fitness_hamiltonian(c: PathCandidate):\n",
    "    max_w = np.max(c.graph)\n",
    "    num_vs = c.graph.shape[0]\n",
    "    if len(c.path) != num_vs:\n",
    "        return max_w*np.abs(num_vs - len(c.path))\n",
    "    vs = np.empty(num_vs, dtype=bool)\n",
    "    vs[:] = False\n",
    "    \n",
    "    cost = 0\n",
    "    for i in c.path:\n",
    "        if not vs[i]:\n",
    "            vs[i] = True\n",
    "        else:\n",
    "            cost += max_w\n",
    "            \n",
    "    for i in vs:\n",
    "        if i == False:\n",
    "            cost += max_w\n",
    "            \n",
    "    for i in range(len(c.path)-1):\n",
    "        cost += c.graph[c.path[i],c.path[i+1]]\n",
    "    return -cost"
   ]
  },
  {
   "cell_type": "markdown",
   "id": "e198b595",
   "metadata": {},
   "source": [
    "# Genetic Algorithm\n",
    "It uses a representation of candidates given by PathCandidate\n",
    "\n",
    "## Generation\n",
    "It generates a random walk in the graph, with the constraint that the length of the walk should be equal to the number\n",
    "of vertices\n",
    "\n",
    "## Mutation\n",
    "It selects randomly a vertex $v$ in the current path, it keeps all vertices in the path before $v$ ($v$ included) and then\n",
    "generates a random walk starting from $v$, with the constraint that the length of the walk should be equal to the number\n",
    "of vertices\n",
    "\n",
    "## Recombination\n",
    "It selects randomly a vertex $v$ in the first path, it keeps all vertices in the first path before $v$ ($v$ included).\n",
    "Then, it searches the first occurence of $v$ in the second path and adds all vertices after $v$ (in the second path) to the new path. If the length of the constructed path is smaller than the number of vertices, then it generates a random walk starting from the last node, with the constraint that the length of the walk should be equal to the number\n",
    "of vertices"
   ]
  },
  {
   "cell_type": "code",
   "execution_count": 21,
   "id": "6cd27f8f",
   "metadata": {},
   "outputs": [],
   "source": [
    "genalgo_ham = GeneticAlgorithm(pop_size=100,\n",
    "                              candidate_type=PathCandidate,\n",
    "                              selection_func=partial(tournament_selection, tournament_size=5),\n",
    "                              fitness_func=partial(fitness_hamiltonian),\n",
    "                              elitism=True,\n",
    "                              **{'graph': graph})"
   ]
  },
  {
   "cell_type": "code",
   "execution_count": 22,
   "id": "511592d6",
   "metadata": {},
   "outputs": [
    {
     "data": {
      "text/plain": [
       "(0.0, 1000.0)"
      ]
     },
     "execution_count": 22,
     "metadata": {},
     "output_type": "execute_result"
    },
    {
     "data": {
      "image/png": "[encoded data removed]",
      "text/plain": [
       "<Figure size 640x480 with 1 Axes>"
      ]
     },
     "metadata": {},
     "output_type": "display_data"
    }
   ],
   "source": [
    "iters = 1000\n",
    "\n",
    "genalgo_ham.fit(iters, keep_history=True)\n",
    "history = genalgo_ham.fitness_h\n",
    "plt.plot(history*-1)\n",
    "plt.xlim(0,iters)\n",
    "#plt.ylim(0,np.sum(a))"
   ]
  },
  {
   "cell_type": "code",
   "execution_count": 23,
   "id": "8b8bd589",
   "metadata": {},
   "outputs": [
    {
     "name": "stdout",
     "output_type": "stream",
     "text": [
      "[7, 4, 4, 4, 6, 6, 1, 0, 6, 1, 7, 4, 2, 4, 2, 4, 4, 4, 6, 5, 1, 7, 7, 7, 7, 4, 2, 4, 6, 4, 4, 4, 6, 5, 5, 5, 3, 7, 7, 7, 4, 6, 1, 0, 1, 0, 2, 4, 6, 5, 1, 0, 2, 4, 6, 1, 0, 1, 7, 4, 6, 4, 2, 4, 2, 4, 4, 2, 5, 1, 0, 5, 5, 3, 7, 4, 2, 4, 6, 4, 6, 1, 7, 7, 7, 4, 2, 5, 3, 7, 7, 4, 2, 5, 3, 7, 4, 4, 6, 5, 1, 7, 4, 4, 2, 4, 6, 1, 7, 7, 7, 4, 2, 5, 1, 7, 7, 7, 7, 4, 2, 5, 3, 7, 4, 4, 4, 6, 4, 6, 5, 1, 0, 5, 3, 7, 4]\n",
      "-124.81704055415612\n"
     ]
    }
   ],
   "source": [
    "path = genalgo_ham.best.path\n",
    "print(path)\n",
    "print(-fitness_hamiltonian(genalgo_ham.best))\n",
    "for i in range(len(path)-1):\n",
    "    if graph[path[i],path[i+1]] == 0:\n",
    "        print(\"No edge!\")"
   ]
  },
  {
   "cell_type": "code",
   "execution_count": null,
   "id": "aabf09e6",
   "metadata": {},
   "outputs": [],
   "source": []
  }
 ],
 "metadata": {
  "kernelspec": {
   "display_name": "Python 3 (ipykernel)",
   "language": "python",
   "name": "python3"
  },
  "language_info": {
   "codemirror_mode": {
    "name": "ipython",
    "version": 3
   },
   "file_extension": ".py",
   "mimetype": "text/x-python",
   "name": "python",
   "nbconvert_exporter": "python",
   "pygments_lexer": "ipython3",
   "version": "3.12.2"
  }
 },
 "nbformat": 4,
 "nbformat_minor": 5
}
